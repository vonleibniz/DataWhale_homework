{
 "cells": [
  {
   "cell_type": "markdown",
   "metadata": {},
   "source": [
    "**Task2（特征选择）**  分别用IV值和随机森林挑选特征，再构建模型，进行模型评估"
   ]
  },
  {
   "cell_type": "code",
   "execution_count": 4,
   "metadata": {},
   "outputs": [],
   "source": [
    "import pickle\n",
    "import pandas as pd\n",
    "from sklearn.model_selection import train_test_split\n",
    "\n",
    "# 导入数据\n",
    "data = pd.read_csv(\"./data.csv\",encoding='gbk')\n",
    "data.drop_duplicates(inplace=True)\n",
    "\n",
    "# 提取标签\n",
    "y = data.status\n",
    "\n",
    "# 载入特征\n",
    "with open('feature.pkl', 'rb') as f:\n",
    "    X = pickle.load(f)\n",
    "\n",
    "# 划分训练集测试集\n",
    "X_train, X_test, y_train, y_test = train_test_split(X, y, test_size=0.3,random_state=2018)"
   ]
  },
  {
   "cell_type": "code",
   "execution_count": 5,
   "metadata": {},
   "outputs": [],
   "source": [
    "# 性能评估\n",
    "from sklearn.metrics import accuracy_score, roc_auc_score\n",
    "\n",
    "def model_metrics(clf, X_train, X_test, y_train, y_test):\n",
    "    # 预测\n",
    "    y_train_pred = clf.predict(X_train)\n",
    "    y_test_pred = clf.predict(X_test)\n",
    "    \n",
    "    y_train_proba = clf.predict_proba(X_train)[:,1]\n",
    "    y_test_proba = clf.predict_proba(X_test)[:,1]\n",
    "    \n",
    "    # 准确率\n",
    "    print('[准确率]', end = ' ')\n",
    "    print('训练集：', '%.4f'%accuracy_score(y_train, y_train_pred), end = ' ')\n",
    "    print('测试集：', '%.4f'%accuracy_score(y_test, y_test_pred))\n",
    "    \n",
    "    # auc取值：用roc_auc_score或auc\n",
    "    print('[auc值]', end = ' ')\n",
    "    print('训练集：', '%.4f'%roc_auc_score(y_train, y_train_proba), end = ' ')\n",
    "    print('测试集：', '%.4f'%roc_auc_score(y_test, y_test_proba))"
   ]
  },
  {
   "cell_type": "markdown",
   "metadata": {},
   "source": [
    "## IV值进行特征选择"
   ]
  },
  {
   "cell_type": "markdown",
   "metadata": {
    "collapsed": true
   },
   "source": [
    "stats.scoreatpercentile(x, 50)    # 得到x在50%处的数值\n",
    "\n",
    "np.in1d(B,A)    # 在序列B中寻找与序列A相同的值，并返回一逻辑值（True,False）"
   ]
  },
  {
   "cell_type": "code",
   "execution_count": 6,
   "metadata": {},
   "outputs": [],
   "source": [
    "import math\n",
    "import numpy as np\n",
    "from scipy import stats\n",
    "from sklearn.utils.multiclass import type_of_target\n",
    "\n",
    "def woe(X, y, event=1):  \n",
    "    res_woe = []\n",
    "    iv_dict = {}\n",
    "    for feature in X.columns:\n",
    "        x = X[feature].values\n",
    "        # 1) 连续特征离散化\n",
    "        if type_of_target(x) == 'continuous':\n",
    "            x = discrete(x)\n",
    "        # 2) 计算该特征的woe和iv\n",
    "        # woe_dict, iv = woe_single_x(x, y, feature, event)\n",
    "        woe_dict, iv = woe_single_x(x, y, feature, event)\n",
    "        iv_dict[feature] = iv\n",
    "        res_woe.append(woe_dict) \n",
    "        \n",
    "    return iv_dict\n",
    "        \n",
    "def discrete(x):\n",
    "    # 使用5等分离散化特征\n",
    "    res = np.zeros(x.shape)\n",
    "    for i in range(5):\n",
    "        point1 = stats.scoreatpercentile(x, i * 20)\n",
    "        point2 = stats.scoreatpercentile(x, (i + 1) * 20)\n",
    "        x1 = x[np.where((x >= point1) & (x <= point2))]\n",
    "        mask = np.in1d(x, x1)\n",
    "        res[mask] = i + 1    # 将[i, i+1]块内的值标记成i+1\n",
    "    return res\n",
    "\n",
    "def woe_single_x(x, y, feature,event = 1):\n",
    "    # event代表预测正例的标签\n",
    "    event_total = sum(y == event)\n",
    "    non_event_total = y.shape[-1] - event_total\n",
    "    \n",
    "    iv = 0\n",
    "    woe_dict = {}\n",
    "    for x1 in set(x):    # 遍历各个块\n",
    "        y1 = y.reindex(np.where(x == x1)[0])\n",
    "        event_count = sum(y1 == event)\n",
    "        non_event_count = y1.shape[-1] - event_count\n",
    "        rate_event = event_count / event_total    \n",
    "        rate_non_event = non_event_count / non_event_total\n",
    "        \n",
    "        if rate_event == 0:\n",
    "            rate_event = 0.0001\n",
    "            # woei = -20\n",
    "        elif rate_non_event == 0:\n",
    "            rate_non_event = 0.0001\n",
    "            # woei = 20\n",
    "        woei = math.log(rate_event / rate_non_event)\n",
    "        woe_dict[x1] = woei\n",
    "        iv += (rate_event - rate_non_event) * woei\n",
    "    return woe_dict, iv"
   ]
  },
  {
   "cell_type": "markdown",
   "metadata": {},
   "source": [
    "处理上述特征时, 遇到了IV的极端情况, 响应数为0或未响应数为0。\n",
    "\n",
    "为简单起见, 我们在代码中对极端值进行平滑处理。"
   ]
  },
  {
   "cell_type": "code",
   "execution_count": 7,
   "metadata": {},
   "outputs": [],
   "source": [
    "import warnings\n",
    "warnings.filterwarnings(\"ignore\")\n",
    "\n",
    "iv_dict = woe(X_train, y_train)"
   ]
  },
  {
   "cell_type": "code",
   "execution_count": 8,
   "metadata": {
    "scrolled": true
   },
   "outputs": [
    {
     "data": {
      "text/plain": [
       "[('historical_trans_amount', 2.6609646134512865),\n",
       " ('trans_amount_3_month', 2.5546436077538357),\n",
       " ('repayment_capability', 2.327229251967252),\n",
       " ('pawns_auctions_trusts_consume_last_6_month', 2.220777389641486),\n",
       " ('first_transaction_day', 2.1651873210712678),\n",
       " ('abs', 1.966985825643712),\n",
       " ('consfin_avg_limit', 1.6927490494187993),\n",
       " ('loans_avg_limit', 1.4616638505356894),\n",
       " ('max_cumulative_consume_later_1_month', 1.4598660465564153),\n",
       " ('consume_mini_time_last_1_month', 1.3790560008629353),\n",
       " ('historical_trans_day', 1.117648762849395),\n",
       " ('consfin_credit_limit', 0.869609276640697),\n",
       " ('pawns_auctions_trusts_consume_last_1_month', 0.8530625616084101),\n",
       " ('avg_price_last_12_month', 0.7281431950917352),\n",
       " ('loans_score', 0.6611588082229917),\n",
       " ('loans_latest_day', 0.6295469820926429),\n",
       " ('apply_score', 0.6273343581887715),\n",
       " ('history_suc_fee', 0.5116062502603338),\n",
       " ('latest_query_day', 0.4932403479679425),\n",
       " ('trans_days_interval_filter', 0.4880692929650191),\n",
       " ('loans_count', 0.4848115414454659),\n",
       " ('loans_long_time', 0.4807396726772874),\n",
       " ('trans_top_time_last_6_month', 0.4613291399681769),\n",
       " ('consfin_max_limit', 0.44967789314649836),\n",
       " ('history_fail_fee', 0.44575588620134754),\n",
       " ('take_amount_in_later_12_month_highest', 0.4407207265219969),\n",
       " ('consume_top_time_last_6_month', 0.4157707788423477),\n",
       " ('loans_settle_count', 0.4080417764383821),\n",
       " ('trans_days_interval', 0.3916156503243967),\n",
       " ('loans_max_limit', 0.3812016477590246),\n",
       " ('trans_day_last_12_month', 0.37265914370427666),\n",
       " ('query_sum_count', 0.3667865311071229),\n",
       " ('number_of_trans_from_2011', 0.3514986676642078),\n",
       " ('latest_six_month_apply', 0.35047790728399075),\n",
       " ('latest_six_month_loan', 0.34309674927195594),\n",
       " ('loans_product_count', 0.3235568849598342),\n",
       " ('latest_three_month_apply', 0.31608400750751525),\n",
       " ('loans_credit_limit', 0.2962891505760528),\n",
       " ('apply_credibility', 0.2953860515586045),\n",
       " ('loans_org_count_behavior', 0.29433192706905176),\n",
       " ('query_org_count', 0.29200056879031744),\n",
       " ('transd_mcc', 0.2911659064978281),\n",
       " ('latest_one_month_apply', 0.285604824426876),\n",
       " ('latest_three_month_loan', 0.2811298411538135),\n",
       " ('loans_credibility_limit', 0.2781232666084718),\n",
       " ('consfin_org_count_behavior', 0.259118140030296),\n",
       " ('consfin_org_count_current', 0.259118140030296),\n",
       " ('loans_credibility_behavior', 0.2569412073649464),\n",
       " ('loans_cash_count', 0.25587096197145104),\n",
       " ('loans_org_count_current', 0.25587096197145104),\n",
       " ('latest_query_time_month', 0.25583652781886773),\n",
       " ('first_transaction_time_month', 0.25438319628327344),\n",
       " ('max_consume_count_later_6_month', 0.25329668065621824),\n",
       " ('trans_top_time_last_1_month', 0.2527397928082883),\n",
       " ('loans_overdue_count', 0.25255194308575796),\n",
       " ('consume_top_time_last_1_month', 0.25189695771564924),\n",
       " ('query_cash_count', 0.2514710533290398),\n",
       " ('latest_one_month_fail', 0.25041575086113804),\n",
       " ('consfin_credibility', 0.25018045124953464),\n",
       " ('trans_fail_top_count_enum_last_12_month', 0.24833586667507557),\n",
       " ('consfin_product_count', 0.2476757457642264),\n",
       " ('trans_fail_top_count_enum_last_6_month', 0.2449446986525913),\n",
       " ('latest_one_month_loan', 0.24357719668455058),\n",
       " ('cross_consume_count_last_1_month', 0.24338410524382642),\n",
       " ('avg_consume_less_12_valid_month', 0.24153027060850193),\n",
       " ('query_finance_count', 0.24100208671673942),\n",
       " ('reg_preference_for_trad', 0.23988793307735834),\n",
       " ('loans_latest_time_weekday', 0.23718678565248036),\n",
       " ('trans_fail_top_count_enum_last_1_month', 0.23567490951112754),\n",
       " ('railway_consume_count_last_12_month', 0.2350460813422388),\n",
       " ('first_transaction_time_weekday', 0.23452848386458086),\n",
       " ('first_transaction_time_year', 0.2336217181134312),\n",
       " ('latest_one_month_suc', 0.23313434057293608),\n",
       " ('trans_activity_day', 0.23089021521474926),\n",
       " ('loans_latest_time_month', 0.22872552294577495),\n",
       " ('jewelry_consume_count_last_6_month', 0.22615342289100443),\n",
       " ('middle_volume_percent', 0.22562502839194543),\n",
       " ('trans_amount_increase_rate_lately', 0.2254325546973731),\n",
       " ('regional_mobility', 0.22209882955283974),\n",
       " ('rank_trad_1_month', 0.2218401640065109),\n",
       " ('latest_query_time_weekday', 0.2217483822664849),\n",
       " ('trans_activity_month', 0.22015938020797166),\n",
       " ('top_trans_count_last_1_month', 0.21989166461169876),\n",
       " ('student_feature', 0.21837327711856214),\n",
       " ('is_high_user', 0.2175215044170788),\n",
       " ('loans_latest_time_year', 0.21745799847620634),\n",
       " ('latest_query_time_year', 0.2171524091673082)]"
      ]
     },
     "execution_count": 8,
     "metadata": {},
     "output_type": "execute_result"
    }
   ],
   "source": [
    "iv = sorted(iv_dict.items(), key = lambda x:x[1],reverse = True)\n",
    "iv"
   ]
  },
  {
   "cell_type": "markdown",
   "metadata": {},
   "source": [
    "## 随机森林挑选特征"
   ]
  },
  {
   "cell_type": "code",
   "execution_count": 9,
   "metadata": {},
   "outputs": [],
   "source": [
    "import warnings\n",
    "warnings.filterwarnings(\"ignore\")\n",
    "from sklearn.model_selection import GridSearchCV\n",
    "from sklearn.ensemble import RandomForestClassifier"
   ]
  },
  {
   "cell_type": "code",
   "execution_count": 10,
   "metadata": {},
   "outputs": [
    {
     "name": "stdout",
     "output_type": "stream",
     "text": [
      "袋外分数： 0.740907724676886\n",
      "[准确率] 训练集： 0.9823 测试集： 0.7638\n",
      "[auc值] 训练集： 0.9994 测试集： 0.7028\n"
     ]
    }
   ],
   "source": [
    "# 观察默认参数的性能\n",
    "rf0 = RandomForestClassifier(oob_score=True, random_state=2018)\n",
    "rf0.fit(X_train, y_train)\n",
    "print('袋外分数：', rf0.oob_score_)\n",
    "model_metrics(rf0, X_train, X_test, y_train, y_test)"
   ]
  },
  {
   "cell_type": "code",
   "execution_count": 11,
   "metadata": {},
   "outputs": [
    {
     "data": {
      "text/plain": [
       "({'n_estimators': 180}, 0.7915865123613097)"
      ]
     },
     "execution_count": 11,
     "metadata": {},
     "output_type": "execute_result"
    }
   ],
   "source": [
    "# 网格法调参\n",
    "param_test = {'n_estimators':range(20,200,20)}\n",
    "gsearch = GridSearchCV(estimator = RandomForestClassifier(n_estimators=120, max_depth=9, min_samples_split=50, \n",
    "                                                          min_samples_leaf=20, max_features = 9,random_state=2018), \n",
    "                       param_grid = param_test, scoring='roc_auc', cv=5)\n",
    "\n",
    "gsearch.fit(X_train, y_train)\n",
    "# gsearch.grid_scores_, \n",
    "gsearch.best_params_, gsearch.best_score_"
   ]
  },
  {
   "cell_type": "code",
   "execution_count": 12,
   "metadata": {},
   "outputs": [
    {
     "name": "stdout",
     "output_type": "stream",
     "text": [
      "袋外分数： 0.7911030958821761\n",
      "[准确率] 训练集： 0.8197 测试集： 0.7842\n",
      "[auc值] 训练集： 0.8981 测试集： 0.7721\n"
     ]
    }
   ],
   "source": [
    "rf = RandomForestClassifier(n_estimators=160, max_depth=9, min_samples_split=50,\n",
    "                            min_samples_leaf=20, max_features = 9,oob_score=True, random_state=2018)\n",
    "rf.fit(X_train, y_train)\n",
    "print('袋外分数：', rf.oob_score_)\n",
    "model_metrics(rf, X_train, X_test, y_train, y_test)"
   ]
  }
 ],
 "metadata": {
  "kernelspec": {
   "display_name": "Python 3",
   "language": "python",
   "name": "python3"
  },
  "language_info": {
   "codemirror_mode": {
    "name": "ipython",
    "version": 3
   },
   "file_extension": ".py",
   "mimetype": "text/x-python",
   "name": "python",
   "nbconvert_exporter": "python",
   "pygments_lexer": "ipython3",
   "version": "3.6.8"
  },
  "toc": {
   "nav_menu": {},
   "number_sections": true,
   "sideBar": true,
   "skip_h1_title": false,
   "title_cell": "Table of Contents",
   "title_sidebar": "Contents",
   "toc_cell": true,
   "toc_position": {},
   "toc_section_display": true,
   "toc_window_display": false
  }
 },
 "nbformat": 4,
 "nbformat_minor": 2
}
